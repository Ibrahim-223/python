{
 "cells": [
  {
   "cell_type": "code",
   "execution_count": 28,
   "id": "bff249e6-2dca-4cb2-a24a-62223fc27cb6",
   "metadata": {},
   "outputs": [
    {
     "name": "stdout",
     "output_type": "stream",
     "text": [
      "WELCOME TO THE INTERACTIVE PERSONAL DATA COLLECTOR!\n",
      "\n",
      "\n"
     ]
    },
    {
     "name": "stdin",
     "output_type": "stream",
     "text": [
      "Please enter your name:-  ibrahim\n",
      "Please enter your age:-  22\n",
      "Please ente your height 234\n",
      "Please enter your favourite number 4\n"
     ]
    },
    {
     "name": "stdout",
     "output_type": "stream",
     "text": [
      "\n",
      "\n",
      "Thank you! here is the information we collected\n",
      "\n",
      "\n",
      "Name: ibrahim (type: <class 'str'> Memory address: 2324410710032 )\n",
      "Age: 22 (type: <class 'int'> Memory address 140715188794952 )\n",
      "Height: 234 (type: <class 'int'> Memory address 140715188801736 )\n",
      "Favourite Number: 4 (type <class 'int'> Memory address 140715188794376 )\n",
      "\n",
      "\n"
     ]
    },
    {
     "name": "stdin",
     "output_type": "stream",
     "text": [
      "Enter the current year: 2025\n"
     ]
    },
    {
     "name": "stdout",
     "output_type": "stream",
     "text": [
      "Your birth year is approximately: 2003\n"
     ]
    }
   ],
   "source": [
    "print(\"WELCOME TO THE INTERACTIVE PERSONAL DATA COLLECTOR!\")\n",
    "print(\"\\n\")\n",
    "name = input(\"Please enter your name:- \")\n",
    "age = int(input(\"Please enter your age:- \"))\n",
    "height = int(input(\"Please ente your height:- \"))\n",
    "fav_num = int(input(\"Please enter your favourite number:- \"))\n",
    "print(\"\\n\")\n",
    "print(\"Thank you! here is the information we collected\")\n",
    "print(\"\\n\")\n",
    "print(\"Name:\", name, \"(type:\", type(name),\"Memory address:\", id(name), \")\")\n",
    "print(\"Age:\", age, \"(type:\", type(age), \"Memory address\", id(age), \")\")\n",
    "print(\"Height:\", height, \"(type:\", type(height), \"Memory address\", id(height), \")\")\n",
    "print(\"Favourite Number:\", fav_num, \"(type\", type(fav_num), \"Memory address\", id(fav_num), \")\")\n",
    "print(\"\\n\")\n",
    "current_year=int(input(\"Enter the current year:\"))\n",
    "birth_year=current_year-age\n",
    "print(\"Your birth year is approximately:\",birth_year )\n",
    "\n",
    "    "
   ]
  },
  {
   "cell_type": "code",
   "execution_count": 32,
   "id": "88110442-f93c-46db-9c73-cdd3f2da0f11",
   "metadata": {},
   "outputs": [
    {
     "name": "stdin",
     "output_type": "stream",
     "text": [
      "Enter your age:  22\n",
      "Enter current year: 2025\n"
     ]
    },
    {
     "name": "stdout",
     "output_type": "stream",
     "text": [
      "your birth year is:  2003\n"
     ]
    }
   ],
   "source": [
    "# practice\n",
    "\n",
    "age : int(input(\"Enter your age: \"))\n",
    "current_year : int(input(\"Enter current year:\"))\n",
    "birth_yeaer = current_year - age\n",
    "print(\"your birth year is: \", birth_year)"
   ]
  },
  {
   "cell_type": "code",
   "execution_count": null,
   "id": "f0e88a53-bb58-443b-bad5-1570795bcd24",
   "metadata": {},
   "outputs": [],
   "source": []
  }
 ],
 "metadata": {
  "kernelspec": {
   "display_name": "Python [conda env:base] *",
   "language": "python",
   "name": "conda-base-py"
  },
  "language_info": {
   "codemirror_mode": {
    "name": "ipython",
    "version": 3
   },
   "file_extension": ".py",
   "mimetype": "text/x-python",
   "name": "python",
   "nbconvert_exporter": "python",
   "pygments_lexer": "ipython3",
   "version": "3.13.5"
  }
 },
 "nbformat": 4,
 "nbformat_minor": 5
}
