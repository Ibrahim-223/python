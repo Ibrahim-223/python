{
 "cells": [
  {
   "cell_type": "code",
   "execution_count": 281,
   "id": "d6087cb4-4a78-402d-9871-700b5209a9e6",
   "metadata": {},
   "outputs": [],
   "source": [
    "import numpy as np"
   ]
  },
  {
   "cell_type": "code",
   "execution_count": 282,
   "id": "632b601a-8f0d-47f0-9f20-3a127ae47a82",
   "metadata": {},
   "outputs": [
    {
     "name": "stdout",
     "output_type": "stream",
     "text": [
      "2.3.3\n"
     ]
    }
   ],
   "source": [
    "print(np.__version__)"
   ]
  },
  {
   "cell_type": "code",
   "execution_count": 287,
   "id": "0b2adadd-48d3-46ca-b9c6-90d91813360a",
   "metadata": {},
   "outputs": [
    {
     "name": "stdout",
     "output_type": "stream",
     "text": [
      "======================================\n",
      "\n",
      "choose an option:\n",
      "1. Create a Numpy array\n",
      "2. Perform a Mathematical Operation\n",
      "3. Combine or split Arrays\n",
      "4. Search, Sort, or Filter Arrays\n",
      "5. Compute Aggregates and Statistics\n",
      "6. Exit\n"
     ]
    },
    {
     "name": "stdin",
     "output_type": "stream",
     "text": [
      "Enter your choice: 1\n"
     ]
    },
    {
     "name": "stdout",
     "output_type": "stream",
     "text": [
      "\n",
      "select the type of array to create:\n",
      "===========================================\n",
      "\n",
      "1. 1D Array\n",
      "2. 2D Array\n",
      "3. 3D Array\n"
     ]
    },
    {
     "name": "stdin",
     "output_type": "stream",
     "text": [
      "\n",
      "Enter Your choice: 3\n",
      "\n",
      "Enter depth:  2\n",
      "Enter a number of rows: 3\n",
      "Enter a number of columns: 1\n",
      "\n",
      "Enter 6 elements for the array seperated by space: 1 2 3 4 5 6\n"
     ]
    },
    {
     "name": "stdout",
     "output_type": "stream",
     "text": [
      "\n",
      "3D Array Created Successfully:\n",
      "[[[1]\n",
      "  [2]\n",
      "  [3]]\n",
      "\n",
      " [[4]\n",
      "  [5]\n",
      "  [6]]]\n",
      "\n",
      "choose an operation:\n",
      "1. Indexing\n",
      "2. Slicing\n"
     ]
    },
    {
     "name": "stdin",
     "output_type": "stream",
     "text": [
      "\n",
      "Enter a choice: 2\n",
      "\n",
      "Enter the row range(start:end): 0:1\n",
      "Enter the column range(start:end): 1:0\n"
     ]
    },
    {
     "name": "stdout",
     "output_type": "stream",
     "text": [
      "[]\n",
      "\n",
      "choose an option:\n",
      "1. Create a Numpy array\n",
      "2. Perform a Mathematical Operation\n",
      "3. Combine or split Arrays\n",
      "4. Search, Sort, or Filter Arrays\n",
      "5. Compute Aggregates and Statistics\n",
      "6. Exit\n"
     ]
    },
    {
     "name": "stdin",
     "output_type": "stream",
     "text": [
      "Enter your choice: 2\n"
     ]
    },
    {
     "name": "stdout",
     "output_type": "stream",
     "text": [
      "\n",
      "Mathematical operation\n",
      "===================================\n"
     ]
    },
    {
     "name": "stdin",
     "output_type": "stream",
     "text": [
      "\n",
      "Enter the elements for 1st array: 2 4 5\n"
     ]
    },
    {
     "name": "stdout",
     "output_type": "stream",
     "text": [
      "[2 4 5]\n"
     ]
    },
    {
     "name": "stdin",
     "output_type": "stream",
     "text": [
      "Enter the elements for 2nd array: 6 5 3\n"
     ]
    },
    {
     "name": "stdout",
     "output_type": "stream",
     "text": [
      "[6 5 3]\n",
      "\n",
      "choose a mathematical opearation\n",
      "1. Addition\n",
      "2. Subtraction\n",
      "3. Multiplication\n",
      "4. Division\n"
     ]
    },
    {
     "name": "stdin",
     "output_type": "stream",
     "text": [
      "\n",
      "Choose a choice: 4\n"
     ]
    },
    {
     "name": "stdout",
     "output_type": "stream",
     "text": [
      "\n",
      "division is: [0.33333333 0.8        1.66666667]\n",
      "\n",
      "choose an option:\n",
      "1. Create a Numpy array\n",
      "2. Perform a Mathematical Operation\n",
      "3. Combine or split Arrays\n",
      "4. Search, Sort, or Filter Arrays\n",
      "5. Compute Aggregates and Statistics\n",
      "6. Exit\n"
     ]
    },
    {
     "name": "stdin",
     "output_type": "stream",
     "text": [
      "Enter your choice: 3\n"
     ]
    },
    {
     "name": "stdout",
     "output_type": "stream",
     "text": [
      "\n",
      "combine or split arrays\n",
      "===================================\n",
      "1. Combine array\n",
      "2. Split array\n"
     ]
    },
    {
     "name": "stdin",
     "output_type": "stream",
     "text": [
      "Enter a choice:  1\n",
      "Enter elements for 1st array: 14 5 7\n"
     ]
    },
    {
     "name": "stdout",
     "output_type": "stream",
     "text": [
      "[14, 5, 7]\n"
     ]
    },
    {
     "name": "stdin",
     "output_type": "stream",
     "text": [
      "Enter elements for 2nd array: 5 3 2\n"
     ]
    },
    {
     "name": "stdout",
     "output_type": "stream",
     "text": [
      "[5, 3, 2]\n",
      "Combine array is: [14, 5, 7, 5, 3, 2]\n",
      "\n",
      "choose an option:\n",
      "1. Create a Numpy array\n",
      "2. Perform a Mathematical Operation\n",
      "3. Combine or split Arrays\n",
      "4. Search, Sort, or Filter Arrays\n",
      "5. Compute Aggregates and Statistics\n",
      "6. Exit\n"
     ]
    },
    {
     "name": "stdin",
     "output_type": "stream",
     "text": [
      "Enter your choice: 4\n",
      "\n",
      "Enter elements: 5 7 8 4 \n"
     ]
    },
    {
     "name": "stdout",
     "output_type": "stream",
     "text": [
      "[5, 7, 8, 4]\n",
      "\n",
      "choose an option:\n",
      "1. Search a value\n",
      "2. sort the array\n",
      "3. filter value\n"
     ]
    },
    {
     "name": "stdin",
     "output_type": "stream",
     "text": [
      "choose an options: 2\n"
     ]
    },
    {
     "name": "stdout",
     "output_type": "stream",
     "text": [
      "\n",
      "Elements in ascending order:  [4, 5, 7, 8]\n",
      "Elements in descending order:  [8, 7, 5, 4]\n",
      "\n",
      "choose an option:\n",
      "1. Create a Numpy array\n",
      "2. Perform a Mathematical Operation\n",
      "3. Combine or split Arrays\n",
      "4. Search, Sort, or Filter Arrays\n",
      "5. Compute Aggregates and Statistics\n",
      "6. Exit\n"
     ]
    },
    {
     "name": "stdin",
     "output_type": "stream",
     "text": [
      "Enter your choice: 5\n"
     ]
    },
    {
     "name": "stdout",
     "output_type": "stream",
     "text": [
      "\n",
      "aggregate/statistical operations:\n",
      "=========================================\n"
     ]
    },
    {
     "name": "stdin",
     "output_type": "stream",
     "text": [
      "Enter elements: 6 4 7 5 7\n"
     ]
    },
    {
     "name": "stdout",
     "output_type": "stream",
     "text": [
      "[6, 4, 7, 5, 7]\n",
      "\n",
      "choose an operations:\n",
      "1. Sum\n",
      "2. Mean\n",
      "3. Median\n",
      "4. Standard Deviation\n",
      "5. Varianve\n"
     ]
    },
    {
     "name": "stdin",
     "output_type": "stream",
     "text": [
      "choose an option: 2\n"
     ]
    },
    {
     "name": "stdout",
     "output_type": "stream",
     "text": [
      "Mean is: 5.8\n",
      "\n",
      "choose an option:\n",
      "1. Create a Numpy array\n",
      "2. Perform a Mathematical Operation\n",
      "3. Combine or split Arrays\n",
      "4. Search, Sort, or Filter Arrays\n",
      "5. Compute Aggregates and Statistics\n",
      "6. Exit\n"
     ]
    },
    {
     "name": "stdin",
     "output_type": "stream",
     "text": [
      "Enter your choice: 8\n"
     ]
    },
    {
     "name": "stdout",
     "output_type": "stream",
     "text": [
      "Invalid choice. Please try again🤦.\n",
      "\n"
     ]
    }
   ],
   "source": [
    "## print(\"welcome to the Numpy Analyzer!\")\n",
    "print(\"======================================\")\n",
    "while True:\n",
    "    print(\"\\nchoose an option:\")\n",
    "    print(\"1. Create a Numpy array\")\n",
    "    print(\"2. Perform a Mathematical Operation\")\n",
    "    print(\"3. Combine or split Arrays\")\n",
    "    print(\"4. Search, Sort, or Filter Arrays\")\n",
    "    print(\"5. Compute Aggregates and Statistics\")\n",
    "    print(\"6. Exit\")\n",
    "    \n",
    "\n",
    "    ch = int(input(\"Enter your choice:\"))\n",
    "\n",
    "    if ch == 1:\n",
    "        num_array()\n",
    "\n",
    "    elif ch == 2:\n",
    "        math_operation()\n",
    "\n",
    "    elif ch == 3:\n",
    "        combine()\n",
    "\n",
    "    elif ch == 4:\n",
    "        search_sort_filter()\n",
    "        \n",
    "    elif ch == 5:\n",
    "        aggr()\n",
    "\n",
    "    elif ch == 6:\n",
    "        print(\"\\nExiting the sysytem. All resources have been freed.\")\n",
    "        print(\"Goodbye!👋👋👋\")\n",
    "        break       \n",
    "        \n",
    "    else:\n",
    "        print(\"Invalid choice. Please try again🤦.\\n\")\n",
    "        break    \n",
    "\n",
    "#-----------------start coding---------------\n",
    "def num_array():\n",
    "    print(\"\\nselect the type of array to create:\")\n",
    "    print(\"===========================================\")\n",
    "    while True:\n",
    "        print(\"\\n1. 1D Array\")\n",
    "        print(\"2. 2D Array\")\n",
    "        print(\"3. 3D Array\")\n",
    "\n",
    "        ch = int(input(\"\\nEnter Your choice:\"))\n",
    "\n",
    "        if ch == 1:\n",
    "\n",
    "            element = list(map(int, input(\"\\nEnter elements for the array seperated by space:\").split()))\n",
    "            arr = np.array(element) \n",
    "            print(\"\\n1D Array created successfully:\")\n",
    "            print(arr) \n",
    "            \n",
    "        elif ch == 2:\n",
    "            r = int(input(\"\\nEnter a number of rows:\"))\n",
    "            c = int(input(\"Enter a number of columns:\"))\n",
    "            element = list(map(int, input(f\"\\nEnter {r*c} elements for the array seperated by space:\").split()))\n",
    "            arr = np.array(element).reshape(r,c)\n",
    "            print(\"\\n2D Array Created Successfully:\")\n",
    "            print(arr)\n",
    "\n",
    "        elif ch == 3:\n",
    "            d = int(input(\"\\nEnter depth: \"))\n",
    "            r = int(input(\"Enter a number of rows:\"))\n",
    "            c = int(input(\"Enter a number of columns:\"))\n",
    "            element = list(map(int, input(f\"\\nEnter {d*r*c} elements for the array seperated by space:\").split()))\n",
    "            arr = np.array(element).reshape(d,r,c)\n",
    "            print(\"\\n3D Array Created Successfully:\")\n",
    "            print(arr)\n",
    "            \n",
    "    \n",
    "            print(\"\\nchoose an operation:\")\n",
    "            print(\"1. Indexing\")\n",
    "            print(\"2. Slicing\")\n",
    "        \n",
    "            ch = int(input(\"\\nEnter a choice:\"))\n",
    "\n",
    "\n",
    "            if ch == 1:\n",
    "                if arr.ndim == 1:\n",
    "                    indx = int(input(\"\\nEnter index\"))\n",
    "                    print(\"Element\", arr[indx])\n",
    "\n",
    "                elif arr.ndim == 2:\n",
    "                    row_index = int(input(\"\\nEnter row index:\"))\n",
    "                    col_index = int(input(\"Enter col index:\"))\n",
    "                    print(\"Element\", arr[arr[row_index, col_index]])\n",
    "\n",
    "                elif arr.ndim == 3:\n",
    "                    dpt = int(input(\"\\nEnter depth index:\"))\n",
    "                    row_index = int(input(\"Enter row index:\"))\n",
    "                    col_index = int(input(\"Enter col index:\"))\n",
    "                    print(\"Element:\", arr[dpt, row_index, col_index])\n",
    "\n",
    "            elif ch == 2:\n",
    "                row_start, row_stop = map(int, input(\"\\nEnter the row range(start:end):\").split(\":\")) \n",
    "                col_start, col_stop = map(int, input(\"Enter the column range(start:end):\").split(\":\")) \n",
    "                print(arr[row_start : row_stop, col_start : col_stop])\n",
    "                break\n",
    "                \n",
    "            else:\n",
    "                print(\"choose correct option🤦\")\n",
    "            break\n",
    "\n",
    "\n",
    "                \n",
    "\n",
    "\n",
    "def math_operation():\n",
    "    while True:\n",
    "        print(\"\\nMathematical operation\")\n",
    "        print(\"===================================\")\n",
    "        first_array = np.array(list(map(int, input(\"\\nEnter the elements for 1st array:\").split())))\n",
    "        print(np.array(first_array))\n",
    "            \n",
    "        second_array = np.array(list(map(int, input(\"Enter the elements for 2nd array:\").split())))\n",
    "        print(np.array(second_array))\n",
    "        \n",
    "        print(\"\\nchoose a mathematical opearation\")\n",
    "        print(\"1. Addition\")\n",
    "        print(\"2. Subtraction\")\n",
    "        print(\"3. Multiplication\")\n",
    "        print(\"4. Division\")\n",
    "        \n",
    "        ch = int(input(\"\\nChoose a choice:\"))\n",
    "\n",
    "        if ch == 1:\n",
    "            print(\"\\naddition is:\", first_array + second_array)\n",
    "            \n",
    "        elif ch == 2:\n",
    "            print(\"\\nsubtraction is:\", first_array - second_array)\n",
    "\n",
    "        elif ch == 3:\n",
    "            print(\"\\nmultiplication is:\", first_array * second_array)\n",
    "\n",
    "        elif ch == 4:\n",
    "            print(\"\\ndivision is:\", first_array / second_array)\n",
    "        else:\n",
    "            print(\"choose correct option🤦\")\n",
    "        break\n",
    "\n",
    "\n",
    "def combine():\n",
    "    print(\"\\ncombine or split arrays\")\n",
    "    print(\"===================================\")\n",
    "    while True:\n",
    "        print(\"1. Combine array\")\n",
    "        print(\"2. Split array\")\n",
    "\n",
    "        ch = int(input(\"Enter a choice: \"))\n",
    "\n",
    "        if ch == 1:\n",
    "            first_array = list(map(int, input(\"Enter elements for 1st array:\").split()))\n",
    "            print(first_array)\n",
    "\n",
    "            second_array = list(map(int, input(\"Enter elements for 2nd array:\").split()))\n",
    "            print(second_array)\n",
    "\n",
    "            print(\"Combine array is:\", first_array + second_array)\n",
    "\n",
    "        elif ch == 2:\n",
    "            arr = list(map(int, input(\"Enter elements:\").split()))\n",
    "            print(\"array:-\", arr)\n",
    "\n",
    "            n = int(input(\"\\nEnter index to split:\"))\n",
    "\n",
    "            first_list = arr[:n]\n",
    "            last_list = arr[n:]\n",
    "\n",
    "            print(\"\\nfirst_list\", first_list)\n",
    "            print(\"last_list\",last_list)\n",
    "        else:\n",
    "            print(\"choose correct option🤦\")\n",
    "\n",
    "        break\n",
    "\n",
    "\n",
    "def search_sort_filter():\n",
    "    while True:\n",
    "\n",
    "        arr = list(map(int, input(\"\\nEnter elements:\").split()))\n",
    "        print(arr) \n",
    "        \n",
    "        print(\"\\nchoose an option:\")\n",
    "        \n",
    "        print(\"1. Search a value\")\n",
    "        print(\"2. sort the array\")\n",
    "        print(\"3. filter value\")\n",
    "\n",
    "        ch = int(input(\"choose an options:\"))\n",
    "\n",
    "\n",
    "        if ch == 1:  # search a value\n",
    "            \n",
    "            val = int(input(\"\\nEnter number to search:\"))\n",
    "\n",
    "            if val in arr:\n",
    "                print(val, \"found at index\", arr.index(val))\n",
    "            else:\n",
    "                print(val, \"not found\")\n",
    "\n",
    "        elif ch == 2:  #sort the array\n",
    "            \n",
    "            arr.sort()\n",
    "            print(\"\\nElements in ascending order: \",arr)\n",
    "\n",
    "            arr.sort(reverse = True)\n",
    "            print(\"Elements in descending order: \",arr)\n",
    "\n",
    "        elif ch == 3:   # filter value\n",
    "            \n",
    "            even = [x for x in arr if x%2 == 0]\n",
    "            print(\"\\nEven number is:\", even)\n",
    "\n",
    "            odd = [x for x in arr if x%2!= 0]\n",
    "            print(\"Odd number is:\", odd)\n",
    "\n",
    "            y = int(input(\"\\nEnter the value\"))\n",
    "\n",
    "            grtr = [x for x in arr if x > y]\n",
    "            print(f\"\\nthe value which is greater then {y}:\", grtr)\n",
    "            \n",
    "\n",
    "        else:\n",
    "            print(\"choose correct option🤦\")\n",
    "            search_sort_filter()\n",
    "        break\n",
    "\n",
    "\n",
    "\n",
    "        \n",
    "def aggr():\n",
    "    while True:\n",
    "        print(\"\\naggregate/statistical operations:\")\n",
    "        print(\"=========================================\")\n",
    "        arr = list(map(int, input(\"Enter elements:\").split()))\n",
    "        print(arr)\n",
    "        print(\"\\nchoose an operations:\")\n",
    "        print(\"1. Sum\")\n",
    "        print(\"2. Mean\")\n",
    "        print(\"3. Median\")\n",
    "        print(\"4. Standard Deviation\")\n",
    "        print(\"5. Varianve\")\n",
    "\n",
    "       \n",
    "        ch = int(input(\"choose an option:\"))\n",
    "\n",
    "        if ch == 1:\n",
    "            print(\"Sum is:\", np.sum(arr))\n",
    "        elif ch == 2:\n",
    "            print(\"Mean is:\", np.mean(arr))\n",
    "        elif ch == 3:\n",
    "            print(\"Median is\", np.median(arr))\n",
    "        elif ch == 4:\n",
    "            print(\"Standard Deviation is:\", np.std(arr))\n",
    "        elif ch == 5:\n",
    "            print(\"Variance is:\", np.var(arr))\n",
    "        else:\n",
    "            print(\"choose correct option🤦\")\n",
    "            aggr()\n",
    "        break\n",
    "    \n",
    "\n",
    "        \n",
    "# num_array()\n",
    "# math_operation()\n",
    "# combine()\n",
    "# search_sort_filter()\n",
    "# aggr()\n",
    "\n",
    "    "
   ]
  },
  {
   "cell_type": "code",
   "execution_count": null,
   "id": "c55bee10-ab6c-4594-97a7-6bf65049b936",
   "metadata": {},
   "outputs": [],
   "source": []
  },
  {
   "cell_type": "code",
   "execution_count": null,
   "id": "e6bddb65-5549-422e-8095-6c2815c49c75",
   "metadata": {},
   "outputs": [],
   "source": []
  },
  {
   "cell_type": "code",
   "execution_count": null,
   "id": "187bd83c-deed-419f-930b-9fd118fd90e2",
   "metadata": {},
   "outputs": [],
   "source": []
  },
  {
   "cell_type": "code",
   "execution_count": null,
   "id": "a2fa2dc8-199e-4ac9-ae1b-4a4dc49581ec",
   "metadata": {},
   "outputs": [],
   "source": []
  },
  {
   "cell_type": "code",
   "execution_count": null,
   "id": "a8ae0585-38ab-45e3-b53f-ca4924cdc450",
   "metadata": {},
   "outputs": [],
   "source": []
  },
  {
   "cell_type": "code",
   "execution_count": null,
   "id": "d2da3856-a703-4c66-a02c-c015c949a7a7",
   "metadata": {},
   "outputs": [],
   "source": []
  },
  {
   "cell_type": "code",
   "execution_count": null,
   "id": "38bc9d93-d77c-4ba6-a2fa-8d7ccfe1ded0",
   "metadata": {},
   "outputs": [],
   "source": []
  },
  {
   "cell_type": "code",
   "execution_count": null,
   "id": "8b1b520f-16eb-4094-8ac4-d1cd8f4a6972",
   "metadata": {},
   "outputs": [],
   "source": []
  },
  {
   "cell_type": "code",
   "execution_count": null,
   "id": "16d07daf-03b9-4566-a031-ba358d64a8d8",
   "metadata": {},
   "outputs": [],
   "source": []
  },
  {
   "cell_type": "code",
   "execution_count": null,
   "id": "959d7bf3-bf01-4a22-a1fb-4e968f6b486c",
   "metadata": {},
   "outputs": [],
   "source": []
  },
  {
   "cell_type": "code",
   "execution_count": null,
   "id": "837d36b8-96f4-4039-9831-e3b406ace90e",
   "metadata": {},
   "outputs": [],
   "source": []
  }
 ],
 "metadata": {
  "kernelspec": {
   "display_name": "Python [conda env:base] *",
   "language": "python",
   "name": "conda-base-py"
  },
  "language_info": {
   "codemirror_mode": {
    "name": "ipython",
    "version": 3
   },
   "file_extension": ".py",
   "mimetype": "text/x-python",
   "name": "python",
   "nbconvert_exporter": "python",
   "pygments_lexer": "ipython3",
   "version": "3.13.5"
  }
 },
 "nbformat": 4,
 "nbformat_minor": 5
}
