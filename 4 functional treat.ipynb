{
 "cells": [
  {
   "cell_type": "code",
   "execution_count": 51,
   "id": "96f705c8-baee-4985-8767-1be318b6a8c3",
   "metadata": {},
   "outputs": [
    {
     "name": "stdout",
     "output_type": "stream",
     "text": [
      "Welcome to the Data Analyzer and Transformer Program\n",
      "1. Input Data\n",
      "2. Display Data Summary\n",
      "3. Calculate Factorial\n",
      "4. Filter Data by Threshold\n",
      "5. Sort Data\n",
      "6. Display Statistics\n",
      "7. Exit\n",
      "\n"
     ]
    },
    {
     "name": "stdin",
     "output_type": "stream",
     "text": [
      "Enter your choice:  1\n",
      "Enter numbers separated by spaces:  4 7 2 4 8 1\n"
     ]
    },
    {
     "name": "stdout",
     "output_type": "stream",
     "text": [
      "Data has been stored successfully!\n",
      "\n",
      "Welcome to the Data Analyzer and Transformer Program\n",
      "1. Input Data\n",
      "2. Display Data Summary\n",
      "3. Calculate Factorial\n",
      "4. Filter Data by Threshold\n",
      "5. Sort Data\n",
      "6. Display Statistics\n",
      "7. Exit\n",
      "\n"
     ]
    },
    {
     "name": "stdin",
     "output_type": "stream",
     "text": [
      "Enter your choice:  2\n"
     ]
    },
    {
     "name": "stdout",
     "output_type": "stream",
     "text": [
      "data summary\n",
      "Total elements: 6\n",
      "Minimum value: 1\n",
      "Maximum value: 8\n",
      "Sum of all value: 26\n",
      "\n",
      "Welcome to the Data Analyzer and Transformer Program\n",
      "1. Input Data\n",
      "2. Display Data Summary\n",
      "3. Calculate Factorial\n",
      "4. Filter Data by Threshold\n",
      "5. Sort Data\n",
      "6. Display Statistics\n",
      "7. Exit\n",
      "\n"
     ]
    },
    {
     "name": "stdin",
     "output_type": "stream",
     "text": [
      "Enter your choice:  3\n",
      "Enter a number to find it's factorial: 5\n"
     ]
    },
    {
     "name": "stdout",
     "output_type": "stream",
     "text": [
      "factorial of  5 is 120 \n",
      "\n",
      "Welcome to the Data Analyzer and Transformer Program\n",
      "1. Input Data\n",
      "2. Display Data Summary\n",
      "3. Calculate Factorial\n",
      "4. Filter Data by Threshold\n",
      "5. Sort Data\n",
      "6. Display Statistics\n",
      "7. Exit\n",
      "\n"
     ]
    },
    {
     "name": "stdin",
     "output_type": "stream",
     "text": [
      "Enter your choice:  4\n",
      "Enter threshold value:  2\n"
     ]
    },
    {
     "name": "stdout",
     "output_type": "stream",
     "text": [
      "Filtered data (greater than 2 ): [4, 7, 4, 8] \n",
      "\n",
      "Welcome to the Data Analyzer and Transformer Program\n",
      "1. Input Data\n",
      "2. Display Data Summary\n",
      "3. Calculate Factorial\n",
      "4. Filter Data by Threshold\n",
      "5. Sort Data\n",
      "6. Display Statistics\n",
      "7. Exit\n",
      "\n"
     ]
    },
    {
     "name": "stdin",
     "output_type": "stream",
     "text": [
      "Enter your choice:  5\n"
     ]
    },
    {
     "name": "stdout",
     "output_type": "stream",
     "text": [
      "choose sorting option\n",
      "\n",
      "1. Ascending\n",
      "2. Descending\n"
     ]
    },
    {
     "name": "stdin",
     "output_type": "stream",
     "text": [
      "enter choice 1\n"
     ]
    },
    {
     "name": "stdout",
     "output_type": "stream",
     "text": [
      "sorted data in ascending order: [1, 2, 4, 4, 7, 8] \n",
      "\n",
      "Welcome to the Data Analyzer and Transformer Program\n",
      "1. Input Data\n",
      "2. Display Data Summary\n",
      "3. Calculate Factorial\n",
      "4. Filter Data by Threshold\n",
      "5. Sort Data\n",
      "6. Display Statistics\n",
      "7. Exit\n",
      "\n"
     ]
    },
    {
     "name": "stdin",
     "output_type": "stream",
     "text": [
      "Enter your choice:  6\n"
     ]
    },
    {
     "name": "stdout",
     "output_type": "stream",
     "text": [
      "Dataset statistics\n",
      "Total elements: 6\n",
      "Minimum value: 1\n",
      "Maximum value: 8\n",
      "Sum of all value: 26\n",
      "Average value: 4.333333333333333 \n",
      "\n",
      "Welcome to the Data Analyzer and Transformer Program\n",
      "1. Input Data\n",
      "2. Display Data Summary\n",
      "3. Calculate Factorial\n",
      "4. Filter Data by Threshold\n",
      "5. Sort Data\n",
      "6. Display Statistics\n",
      "7. Exit\n",
      "\n"
     ]
    },
    {
     "name": "stdin",
     "output_type": "stream",
     "text": [
      "Enter your choice:  7\n"
     ]
    },
    {
     "name": "stdout",
     "output_type": "stream",
     "text": [
      "Thank you for using the program. Goodbye!\n"
     ]
    }
   ],
   "source": [
    "while True:\n",
    "    print(\"Welcome to the Data Analyzer and Transformer Program\")\n",
    "    print(\"1. Input Data\")\n",
    "    print(\"2. Display Data Summary\")\n",
    "    print(\"3. Calculate Factorial\")\n",
    "    print(\"4. Filter Data by Threshold\")\n",
    "    print(\"5. Sort Data\")\n",
    "    print(\"6. Display Statistics\")\n",
    "    print(\"7. Exit\\n\")\n",
    "    \n",
    "    choice = input(\"Enter your choice: \")\n",
    "\n",
    "    if choice == '1':\n",
    "        input_data()\n",
    "    elif choice == '2':\n",
    "        data_summary()\n",
    "    elif choice == '3':\n",
    "        show_factorial()\n",
    "    elif choice == '4':\n",
    "        filter_data()\n",
    "    elif choice == '5':\n",
    "        sort_data()\n",
    "    elif choice == '6':\n",
    "        statistics()\n",
    "    elif choice == '7':\n",
    "        print(\"Thank you for using the program. Goodbye!\")\n",
    "        break\n",
    "    else:\n",
    "        print(\"Invalid choice. Please try again.\\n\")\n",
    "        \n",
    "data = []\n",
    "def input_data():\n",
    "    global data\n",
    "    numbers = input(\"Enter numbers separated by spaces: \")\n",
    "\n",
    "    data = list(map(int, numbers.split()))\n",
    "    print(\"Data has been stored successfully!\\n\")\n",
    "\n",
    "\n",
    "def data_summary():\n",
    "    if not data:\n",
    "        print(\"No data found. Please input data first.\\n\")\n",
    "    else:\n",
    "        print(\"data summary\")\n",
    "        print(\"Total elements:\",len(data))\n",
    "        print(\"Minimum value:\", min(data))\n",
    "        print(\"Maximum value:\", max(data))\n",
    "        print(\"Sum of all value:\", sum(data))\n",
    "        print()\n",
    "\n",
    "\n",
    "def factorial(n):\n",
    "    if n == 0 or n == 1:\n",
    "        return 1\n",
    "    else:\n",
    "        return n * factorial (n - 1)\n",
    "factorial(num)\n",
    "        \n",
    "def show_factorial():\n",
    "    num = int(input(\"Enter a number to find it's factorial:\"))\n",
    "    print(\"factorial of \",num,\"is\",factorial(num),\"\\n\")\n",
    "\n",
    "\n",
    "def filter_data():\n",
    "    if not data:\n",
    "        print(\"No data found. Please input data first.\\n\")\n",
    "        return\n",
    "    threshold = int(input(\"Enter threshold value: \"))\n",
    "    result = list(filter(lambda x: x > threshold, data))\n",
    "    print(\"Filtered data (greater than\", threshold, \"):\", result,\"\\n\")\n",
    "\n",
    "\n",
    "def sort_data():\n",
    "    print(\"choose sorting option\\n\")\n",
    "    print(\"1. Ascending\")\n",
    "    print(\"2. Descending\")\n",
    "    if not data:\n",
    "        print(\"no data found\")\n",
    "    else:\n",
    "        ch = int(input(\"enter choice\"))\n",
    "        if ch == 1:\n",
    "            data.sort()\n",
    "            print(\"sorted data in ascending order:\", data,\"\\n\")\n",
    "        elif ch == 2:\n",
    "            data.sort(reverse = True)\n",
    "            print(\"sorted data in descending order:\", data,\"\\n\")\n",
    "        else:\n",
    "            print(\"enter correct choice\\n\")\n",
    "\n",
    "\n",
    "def statistics():\n",
    "    if not data:\n",
    "        print(\"\\nNo data found. Please input data first.\\n\")\n",
    "    else:\n",
    "        total = sum(data)\n",
    "        element = len(data)\n",
    "        average = total/element\n",
    "        print(\"Dataset statistics\")\n",
    "        print(\"Total elements:\",element)\n",
    "        print(\"Minimum value:\", min(data))\n",
    "        print(\"Maximum value:\", max(data))\n",
    "        print(\"Sum of all value:\", total)\n",
    "        print(\"Average value:\", average, \"\\n\")\n",
    "\n",
    "\n",
    "\n"
   ]
  },
  {
   "cell_type": "code",
   "execution_count": null,
   "id": "b64af7bb-9067-478c-a937-6cbeb624d2d5",
   "metadata": {},
   "outputs": [],
   "source": [
    "\n"
   ]
  },
  {
   "cell_type": "code",
   "execution_count": null,
   "id": "661f3a01-f848-414d-a489-2f920c75d5c2",
   "metadata": {},
   "outputs": [],
   "source": []
  },
  {
   "cell_type": "code",
   "execution_count": 34,
   "id": "41ff2478-1478-4652-b194-7352257ca7a9",
   "metadata": {},
   "outputs": [],
   "source": []
  },
  {
   "cell_type": "code",
   "execution_count": null,
   "id": "8d395005-7419-45d6-8e77-3e9a2df331d6",
   "metadata": {},
   "outputs": [],
   "source": []
  }
 ],
 "metadata": {
  "kernelspec": {
   "display_name": "Python [conda env:base] *",
   "language": "python",
   "name": "conda-base-py"
  },
  "language_info": {
   "codemirror_mode": {
    "name": "ipython",
    "version": 3
   },
   "file_extension": ".py",
   "mimetype": "text/x-python",
   "name": "python",
   "nbconvert_exporter": "python",
   "pygments_lexer": "ipython3",
   "version": "3.13.5"
  }
 },
 "nbformat": 4,
 "nbformat_minor": 5
}
