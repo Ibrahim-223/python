{
 "cells": [
  {
   "cell_type": "code",
   "execution_count": 45,
   "id": "6c39df45-a696-4b26-92a8-5e9801512050",
   "metadata": {},
   "outputs": [
    {
     "name": "stdout",
     "output_type": "stream",
     "text": [
      "\n",
      "--- python OOP project: Employee Management System ---\n",
      "\n",
      "choose an operation:--\n",
      "1. Create a person\n",
      "2. Create an Employee\n",
      "3. Create a manager\n",
      "4. Create a devloper\n",
      "5. Show Details\n",
      "6. compare Salaries\n",
      "7. Exit\n"
     ]
    },
    {
     "name": "stdin",
     "output_type": "stream",
     "text": [
      "Enter your choice: 1\n",
      "Enter name: ibrahim\n",
      "Enter age 23\n"
     ]
    },
    {
     "name": "stdout",
     "output_type": "stream",
     "text": [
      "person created with Name :ibrahim and Age is: 23\n",
      "\n",
      "choose an operation:--\n",
      "1. Create a person\n",
      "2. Create an Employee\n",
      "3. Create a manager\n",
      "4. Create a devloper\n",
      "5. Show Details\n",
      "6. compare Salaries\n",
      "7. Exit\n"
     ]
    },
    {
     "name": "stdin",
     "output_type": "stream",
     "text": [
      "Enter your choice: 2\n",
      "Enter name: aman\n",
      "Enter age:  19\n",
      "Enter employee ID: 257\n",
      "Enter salary: 25000\n"
     ]
    },
    {
     "name": "stdout",
     "output_type": "stream",
     "text": [
      "Employee created with Name :aman, Age:19, ID:257, and salary:25000 \n",
      "\n",
      "choose an operation:--\n",
      "1. Create a person\n",
      "2. Create an Employee\n",
      "3. Create a manager\n",
      "4. Create a devloper\n",
      "5. Show Details\n",
      "6. compare Salaries\n",
      "7. Exit\n"
     ]
    },
    {
     "name": "stdin",
     "output_type": "stream",
     "text": [
      "Enter your choice: 3\n",
      "Enter name: saif\n",
      "Enter age:  19\n",
      "Enter employee ID: 258\n",
      "Enter salary: 56000\n",
      "Enter department: sales\n"
     ]
    },
    {
     "name": "stdout",
     "output_type": "stream",
     "text": [
      "manager created with Name :saif, Age:19, ID:258, salary:56000, and department:sales\n",
      "\n",
      "choose an operation:--\n",
      "1. Create a person\n",
      "2. Create an Employee\n",
      "3. Create a manager\n",
      "4. Create a devloper\n",
      "5. Show Details\n",
      "6. compare Salaries\n",
      "7. Exit\n"
     ]
    },
    {
     "name": "stdin",
     "output_type": "stream",
     "text": [
      "Enter your choice: 4\n",
      "Enter name: sufiyan\n",
      "Enter age:  20\n",
      "Enter employee ID: 261\n",
      "Enter salary: 67000\n",
      "Enter language: python\n"
     ]
    },
    {
     "name": "stdout",
     "output_type": "stream",
     "text": [
      "devloper created with Name :sufiyan, Age:20, ID:261, salary:67000, and language:python\n",
      "\n",
      "choose an operation:--\n",
      "1. Create a person\n",
      "2. Create an Employee\n",
      "3. Create a manager\n",
      "4. Create a devloper\n",
      "5. Show Details\n",
      "6. compare Salaries\n",
      "7. Exit\n"
     ]
    },
    {
     "name": "stdin",
     "output_type": "stream",
     "text": [
      "Enter your choice: 5\n"
     ]
    },
    {
     "name": "stdout",
     "output_type": "stream",
     "text": [
      "choose detail to show:\n",
      "1. person\n",
      "2. employee\n",
      "3. manager\n",
      "4. devloper\n"
     ]
    },
    {
     "name": "stdin",
     "output_type": "stream",
     "text": [
      "Enter choice:  1\n"
     ]
    },
    {
     "name": "stdout",
     "output_type": "stream",
     "text": [
      "Person Details:\n",
      "person name: ibrahim\n",
      "person age: 23\n",
      "\n",
      "choose an operation:--\n",
      "1. Create a person\n",
      "2. Create an Employee\n",
      "3. Create a manager\n",
      "4. Create a devloper\n",
      "5. Show Details\n",
      "6. compare Salaries\n",
      "7. Exit\n"
     ]
    },
    {
     "name": "stdin",
     "output_type": "stream",
     "text": [
      "Enter your choice: 5\n"
     ]
    },
    {
     "name": "stdout",
     "output_type": "stream",
     "text": [
      "choose detail to show:\n",
      "1. person\n",
      "2. employee\n",
      "3. manager\n",
      "4. devloper\n"
     ]
    },
    {
     "name": "stdin",
     "output_type": "stream",
     "text": [
      "Enter choice:  2\n"
     ]
    },
    {
     "name": "stdout",
     "output_type": "stream",
     "text": [
      "Employees Details:\n",
      "Employee name: aman\n",
      "Employee age: 19\n",
      "Employee ID: 257\n",
      "Employee salary: 25000\n",
      "\n",
      "choose an operation:--\n",
      "1. Create a person\n",
      "2. Create an Employee\n",
      "3. Create a manager\n",
      "4. Create a devloper\n",
      "5. Show Details\n",
      "6. compare Salaries\n",
      "7. Exit\n"
     ]
    },
    {
     "name": "stdin",
     "output_type": "stream",
     "text": [
      "Enter your choice: 5\n"
     ]
    },
    {
     "name": "stdout",
     "output_type": "stream",
     "text": [
      "choose detail to show:\n",
      "1. person\n",
      "2. employee\n",
      "3. manager\n",
      "4. devloper\n"
     ]
    },
    {
     "name": "stdin",
     "output_type": "stream",
     "text": [
      "Enter choice:  3\n"
     ]
    },
    {
     "name": "stdout",
     "output_type": "stream",
     "text": [
      "Manager Details:\n",
      "Manager name: saif\n",
      "Manager age: 19\n",
      "Manager's employee ID: 258\n",
      "Manager salary: 56000\n",
      "Manager department: sales\n",
      "\n",
      "choose an operation:--\n",
      "1. Create a person\n",
      "2. Create an Employee\n",
      "3. Create a manager\n",
      "4. Create a devloper\n",
      "5. Show Details\n",
      "6. compare Salaries\n",
      "7. Exit\n"
     ]
    },
    {
     "name": "stdin",
     "output_type": "stream",
     "text": [
      "Enter your choice: 4\n",
      "Enter name: anas\n",
      "Enter age:  22\n",
      "Enter employee ID: 260\n",
      "Enter salary: 12890\n",
      "Enter language: python\n"
     ]
    },
    {
     "name": "stdout",
     "output_type": "stream",
     "text": [
      "devloper created with Name :anas, Age:22, ID:260, salary:12890, and language:python\n",
      "\n",
      "choose an operation:--\n",
      "1. Create a person\n",
      "2. Create an Employee\n",
      "3. Create a manager\n",
      "4. Create a devloper\n",
      "5. Show Details\n",
      "6. compare Salaries\n",
      "7. Exit\n"
     ]
    },
    {
     "name": "stdin",
     "output_type": "stream",
     "text": [
      "Enter your choice: 5\n"
     ]
    },
    {
     "name": "stdout",
     "output_type": "stream",
     "text": [
      "choose detail to show:\n",
      "1. person\n",
      "2. employee\n",
      "3. manager\n",
      "4. devloper\n"
     ]
    },
    {
     "name": "stdin",
     "output_type": "stream",
     "text": [
      "Enter choice:  3\n"
     ]
    },
    {
     "name": "stdout",
     "output_type": "stream",
     "text": [
      "Manager Details:\n",
      "Manager name: saif\n",
      "Manager age: 19\n",
      "Manager's employee ID: 258\n",
      "Manager salary: 56000\n",
      "Manager department: sales\n",
      "\n",
      "choose an operation:--\n",
      "1. Create a person\n",
      "2. Create an Employee\n",
      "3. Create a manager\n",
      "4. Create a devloper\n",
      "5. Show Details\n",
      "6. compare Salaries\n",
      "7. Exit\n"
     ]
    },
    {
     "name": "stdin",
     "output_type": "stream",
     "text": [
      "Enter your choice: 5\n"
     ]
    },
    {
     "name": "stdout",
     "output_type": "stream",
     "text": [
      "choose detail to show:\n",
      "1. person\n",
      "2. employee\n",
      "3. manager\n",
      "4. devloper\n"
     ]
    },
    {
     "name": "stdin",
     "output_type": "stream",
     "text": [
      "Enter choice:  4\n"
     ]
    },
    {
     "name": "stdout",
     "output_type": "stream",
     "text": [
      "Devloper Details:\n",
      "Devloper name: sufiyan\n",
      "Devloper age: 20\n",
      "Devloper's employee ID: 261\n",
      "Devloper salary: 67000\n",
      "language: python\n",
      "Devloper name: anas\n",
      "Devloper age: 22\n",
      "Devloper's employee ID: 260\n",
      "Devloper salary: 12890\n",
      "language: python\n",
      "\n",
      "choose an operation:--\n",
      "1. Create a person\n",
      "2. Create an Employee\n",
      "3. Create a manager\n",
      "4. Create a devloper\n",
      "5. Show Details\n",
      "6. compare Salaries\n",
      "7. Exit\n"
     ]
    },
    {
     "name": "stdin",
     "output_type": "stream",
     "text": [
      "Enter your choice: 6\n",
      "Enter employee id: 257\n"
     ]
    },
    {
     "name": "stdout",
     "output_type": "stream",
     "text": [
      "\\Employee salary: 25000\n"
     ]
    },
    {
     "name": "stdin",
     "output_type": "stream",
     "text": [
      "Enter manager id: 258\n"
     ]
    },
    {
     "name": "stdout",
     "output_type": "stream",
     "text": [
      "Manager salary: 56000\n"
     ]
    },
    {
     "name": "stdin",
     "output_type": "stream",
     "text": [
      "Enter devloper id: 261\n"
     ]
    },
    {
     "name": "stdout",
     "output_type": "stream",
     "text": [
      "Devloper salary: 67000\n",
      "\n",
      "Devloper sufiyan has a higher salary(67000) then saif and aman.\n",
      "\n",
      "choose an operation:--\n",
      "1. Create a person\n",
      "2. Create an Employee\n",
      "3. Create a manager\n",
      "4. Create a devloper\n",
      "5. Show Details\n",
      "6. compare Salaries\n",
      "7. Exit\n"
     ]
    },
    {
     "name": "stdin",
     "output_type": "stream",
     "text": [
      "Enter your choice: 7\n"
     ]
    },
    {
     "name": "stdout",
     "output_type": "stream",
     "text": [
      "\n",
      "Exiting the sysytem. All resources have been freed.\n",
      "Goodbye!👋👋👋\n"
     ]
    }
   ],
   "source": [
    "print(\"\\n--- python OOP project: Employee Management System ---\")\n",
    "\n",
    "        \n",
    "        \n",
    "persons = []\n",
    "class create_person:\n",
    "    def __init__(self):\n",
    "        self.name = input(\"Enter name:\")\n",
    "        self.age = int(input(\"Enter age\"))\n",
    "\n",
    "    def show(self):\n",
    "        print(f\"person created with Name :{self.name} and Age is: {self.age}\")\n",
    "\n",
    "# Main class(Base class)\n",
    "employees = []\n",
    "class create_employee:\n",
    "    def __init__(self):\n",
    "        self.name = input(\"Enter name:\")\n",
    "        self.age = int(input(\"Enter age: \"))\n",
    "        self.emp_id = int(input(\"Enter employee ID:\"))\n",
    "        self.salary = int(input(\"Enter salary:\"))\n",
    "\n",
    "    def display(self):\n",
    "        print(f\"Employee created with Name :{self.name}, Age:{self.age}, ID:{self.emp_id}, and salary:{self.salary} \")\n",
    "\n",
    "# Derived class\n",
    "managers = []     \n",
    "class create_manager(create_employee):\n",
    "    def __init__(self):\n",
    "        super().__init__()\n",
    "        self.department = input(\"Enter department:\")\n",
    "\n",
    "    def display(self):\n",
    "        print(f\"manager created with Name :{self.name}, Age:{self.age}, ID:{self.emp_id}, salary:{self.salary}, and department:{self.department}\")\n",
    "\n",
    "# Derived class\n",
    "devlopers = []\n",
    "class create_devloper(create_employee):\n",
    "    def __init__(self):\n",
    "        super().__init__()\n",
    "        self.language = input(\"Enter language:\")\n",
    "        \n",
    "    def display(self):\n",
    "        print(f\"devloper created with Name :{self.name}, Age:{self.age}, ID:{self.emp_id}, salary:{self.salary}, and language:{self.language}\")\n",
    "\n",
    "\n",
    "def show_details():\n",
    "    print(\"choose detail to show:\")\n",
    "    print(\"1. person\")\n",
    "    print(\"2. employee\")\n",
    "    print(\"3. manager\")\n",
    "    print(\"4. devloper\")\n",
    "    ch = int(input(\"Enter choice: \"))\n",
    "    \n",
    "    if ch == 1:\n",
    "        print(\"Person Details:\")\n",
    "        if not persons:\n",
    "            print(\"not person record found\")\n",
    "        else:\n",
    "            for p in persons:\n",
    "                print(\"person name:\",p.name)\n",
    "                print(\"person age:\", p.age)\n",
    "\n",
    "    elif ch == 2:\n",
    "        print(\"Employees Details:\")\n",
    "        if not employees:\n",
    "            print(\"not person found\")\n",
    "        else:\n",
    "            for e in employees:\n",
    "                print(\"Employee name:\",e.name)\n",
    "                print(\"Employee age:\",e.age)\n",
    "                print(\"Employee ID:\",e.emp_id)\n",
    "                print(\"Employee salary:\",e.salary)\n",
    "                      \n",
    "    elif ch == 3:\n",
    "        print(\"Manager Details:\")\n",
    "        if not managers:\n",
    "            print(\"not person found\")\n",
    "        else:\n",
    "            for m in managers:\n",
    "                print(\"Manager name:\",m.name)\n",
    "                print(\"Manager age:\",m.age)\n",
    "                print(\"Manager's employee ID:\",m.emp_id)\n",
    "                print(\"Manager salary:\",m.salary)\n",
    "                print(\"Manager department:\",m.department)\n",
    "\n",
    "    elif ch == 4:\n",
    "        print(\"Devloper Details:\")\n",
    "        if not devlopers:\n",
    "            print(\"not person found\")\n",
    "        else:\n",
    "            for d in devlopers:\n",
    "                print(\"Devloper name:\",d.name)\n",
    "                print(\"Devloper age:\",d.age)\n",
    "                print(\"Devloper's employee ID:\",d.emp_id)\n",
    "                print(\"Devloper salary:\",d.salary)\n",
    "                print(\"language:\",d.language)\n",
    "def compare():\n",
    "    employee_id = int(input(\"Enter employee id:\"))\n",
    "    \n",
    "    found = False\n",
    "    for emp in employees:\n",
    "        if emp.emp_id == employee_id:\n",
    "            print(f\"\\Employee salary: {emp.salary}\")\n",
    "            found = True\n",
    "            break\n",
    "    if not found:\n",
    "        print(\"not found\")\n",
    "        \n",
    "    manager_id = int(input(\"Enter manager id:\"))\n",
    "    found = False\n",
    "    for mgr in managers:\n",
    "        if mgr.emp_id == manager_id:\n",
    "            print(f\"Manager salary: {mgr.salary}\")\n",
    "            found = True\n",
    "            break\n",
    "    if not found:\n",
    "        print(\"not found\")\n",
    "        \n",
    "    devloper_id = int(input(\"Enter devloper id:\"))\n",
    "    found = False\n",
    "    for dev in devlopers:\n",
    "        if dev.emp_id == devloper_id:\n",
    "            print(f\"Devloper salary: {dev.salary}\")\n",
    "            found = True\n",
    "            break\n",
    "    if not found:\n",
    "        print(\"not found\")\n",
    "        \n",
    "    if emp.salary > mgr.salary and emp.salary > dev.salary:\n",
    "        print(f\"\\nEmployee {emp.name} has a higher salary({emp.salary}) then {mgr.name} and {dev.name}\")\n",
    "        \n",
    "    elif emp.salary < mgr.salary and mgr.salary > dev.salary:\n",
    "        print(f\"\\nManager {mgr.name} has a higher salary({mgr.salary}) then {emp.name} and {dev.name}\")\n",
    "        \n",
    "    else:\n",
    "        print(f\"\\nDevloper {dev.name} has a higher salary({dev.salary}) then {mgr.name} and {emp.name}.\")\n",
    "\n",
    "while True:\n",
    "    print(\"\\nchoose an operation:--\")\n",
    "    print(\"1. Create a person\")\n",
    "    print(\"2. Create an Employee\")\n",
    "    print(\"3. Create a manager\")\n",
    "    print(\"4. Create a devloper\")\n",
    "    print(\"5. Show Details\")\n",
    "    print(\"6. compare Salaries\")\n",
    "    print(\"7. Exit\")\n",
    "\n",
    "    choice = int(input(\"Enter your choice:\"))\n",
    "    \n",
    "\n",
    "    if choice == 1:\n",
    "        obj_create_person = create_person()\n",
    "        persons.append(obj_create_person)\n",
    "        obj_create_person.show()\n",
    "        \n",
    "    elif choice == 2:\n",
    "        obj_create_employee = create_employee()\n",
    "        employees.append(obj_create_employee)\n",
    "        obj_create_employee.display()\n",
    "        \n",
    "    elif choice == 3:\n",
    "        obj_create_manager = create_manager()\n",
    "        managers.append(obj_create_manager)\n",
    "        obj_create_manager.display()\n",
    "        \n",
    "    elif choice == 4:\n",
    "        obj_create_devloper = create_devloper()\n",
    "        devlopers.append(obj_create_devloper)\n",
    "        obj_create_devloper.display()\n",
    "        \n",
    "    elif choice == 5:\n",
    "        obj_show_details = show_details()\n",
    "\n",
    "    elif choice == 6:\n",
    "        obj_compare = compare()\n",
    "\n",
    "    elif choice == 7:\n",
    "        print(\"\\nExiting the sysytem. All resources have been freed.\")\n",
    "        print(\"Goodbye!👋👋👋\")\n",
    "        break\n",
    "    else:\n",
    "        print(\"please enter correct choice🤦‍♂️\")\n",
    "        break"
   ]
  },
  {
   "cell_type": "code",
   "execution_count": null,
   "id": "760ed285-3d88-44da-a88b-12ae59abca5b",
   "metadata": {},
   "outputs": [],
   "source": []
  },
  {
   "cell_type": "code",
   "execution_count": null,
   "id": "ff2d582c-7f36-4034-945a-fe3bf4df5920",
   "metadata": {},
   "outputs": [],
   "source": []
  },
  {
   "cell_type": "code",
   "execution_count": null,
   "id": "a62f87ab-018c-4df0-a4e8-2adb6220c958",
   "metadata": {},
   "outputs": [],
   "source": []
  },
  {
   "cell_type": "code",
   "execution_count": null,
   "id": "50a3e6a9-0049-462e-8804-dac2c9223344",
   "metadata": {},
   "outputs": [],
   "source": []
  },
  {
   "cell_type": "code",
   "execution_count": null,
   "id": "b0cf1254-cc63-4af6-a16e-45b6cae54bd7",
   "metadata": {},
   "outputs": [],
   "source": []
  },
  {
   "cell_type": "code",
   "execution_count": null,
   "id": "b21ed2f4-3cb6-495b-b282-4418aa1d68aa",
   "metadata": {},
   "outputs": [],
   "source": []
  },
  {
   "cell_type": "code",
   "execution_count": null,
   "id": "50e00f4c-8bce-49ba-9c25-53626e07fb92",
   "metadata": {},
   "outputs": [],
   "source": []
  },
  {
   "cell_type": "code",
   "execution_count": null,
   "id": "e9fb5b21-6d56-4994-937b-959af348073b",
   "metadata": {},
   "outputs": [],
   "source": []
  },
  {
   "cell_type": "code",
   "execution_count": null,
   "id": "33017833-8b74-4d6a-a612-1dec104c3bd0",
   "metadata": {},
   "outputs": [],
   "source": []
  },
  {
   "cell_type": "code",
   "execution_count": null,
   "id": "3b7bf7c9-f5d9-416a-98d0-4a151b84ffbe",
   "metadata": {},
   "outputs": [],
   "source": []
  }
 ],
 "metadata": {
  "kernelspec": {
   "display_name": "Python [conda env:base] *",
   "language": "python",
   "name": "conda-base-py"
  },
  "language_info": {
   "codemirror_mode": {
    "name": "ipython",
    "version": 3
   },
   "file_extension": ".py",
   "mimetype": "text/x-python",
   "name": "python",
   "nbconvert_exporter": "python",
   "pygments_lexer": "ipython3",
   "version": "3.13.5"
  }
 },
 "nbformat": 4,
 "nbformat_minor": 5
}
