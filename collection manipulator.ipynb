{
 "cells": [
  {
   "cell_type": "code",
   "execution_count": 1,
   "id": "3093e30a-9b3b-47ac-a4b1-57d8b2c822ae",
   "metadata": {},
   "outputs": [
    {
     "name": "stdout",
     "output_type": "stream",
     "text": [
      "------Welcome to the Student Data Organizer!------\n",
      "\n",
      "    Select an option:\n",
      "    1. Add Student\n",
      "    2. Display All Students\n",
      "    3. Update Student Information\n",
      "    4. Delete Student\n",
      "    5. Display Subjects Offered\n",
      "    6. Exit\n",
      "    \n"
     ]
    },
    {
     "name": "stdin",
     "output_type": "stream",
     "text": [
      "Enter your choice:  1\n"
     ]
    },
    {
     "name": "stdout",
     "output_type": "stream",
     "text": [
      "\n",
      "Enter student details:\n"
     ]
    },
    {
     "name": "stdin",
     "output_type": "stream",
     "text": [
      "Student ID:  123\n",
      "Name:  ibrahim\n",
      "Age:  23\n",
      "Grade:  male\n",
      "Date of Birth (YYYY-MM-DD):  2003-03-22\n",
      "Subjects (comma-separated):  sci mat eng\n"
     ]
    },
    {
     "name": "stdout",
     "output_type": "stream",
     "text": [
      "\n",
      "Student Added Successfully!\n",
      "\n",
      "    Select an option:\n",
      "    1. Add Student\n",
      "    2. Display All Students\n",
      "    3. Update Student Information\n",
      "    4. Delete Student\n",
      "    5. Display Subjects Offered\n",
      "    6. Exit\n",
      "    \n"
     ]
    },
    {
     "name": "stdin",
     "output_type": "stream",
     "text": [
      "Enter your choice:  2\n"
     ]
    },
    {
     "name": "stdout",
     "output_type": "stream",
     "text": [
      "\n",
      "Display All Students\n",
      "Student ID: 123 | Name: ibrahim | Age: 23 | Grade: male | Subjects: sci mat eng\n",
      "\n",
      "    Select an option:\n",
      "    1. Add Student\n",
      "    2. Display All Students\n",
      "    3. Update Student Information\n",
      "    4. Delete Student\n",
      "    5. Display Subjects Offered\n",
      "    6. Exit\n",
      "    \n"
     ]
    },
    {
     "name": "stdin",
     "output_type": "stream",
     "text": [
      "Enter your choice:  3\n",
      "Enter Student ID to update:  123\n"
     ]
    },
    {
     "name": "stdout",
     "output_type": "stream",
     "text": [
      "What do you want to update?\n",
      "1. Age\n",
      "2. Subjects\n"
     ]
    },
    {
     "name": "stdin",
     "output_type": "stream",
     "text": [
      "Enter your choice:  1\n",
      "Enter new age:  20\n"
     ]
    },
    {
     "name": "stdout",
     "output_type": "stream",
     "text": [
      "Age Updated.\n",
      "\n",
      "    Select an option:\n",
      "    1. Add Student\n",
      "    2. Display All Students\n",
      "    3. Update Student Information\n",
      "    4. Delete Student\n",
      "    5. Display Subjects Offered\n",
      "    6. Exit\n",
      "    \n"
     ]
    },
    {
     "name": "stdin",
     "output_type": "stream",
     "text": [
      "Enter your choice:  5\n"
     ]
    },
    {
     "name": "stdout",
     "output_type": "stream",
     "text": [
      "Subjects Offered: sci mat eng\n",
      "\n",
      "    Select an option:\n",
      "    1. Add Student\n",
      "    2. Display All Students\n",
      "    3. Update Student Information\n",
      "    4. Delete Student\n",
      "    5. Display Subjects Offered\n",
      "    6. Exit\n",
      "    \n"
     ]
    },
    {
     "name": "stdin",
     "output_type": "stream",
     "text": [
      "Enter your choice:  6\n"
     ]
    },
    {
     "name": "stdout",
     "output_type": "stream",
     "text": [
      "Thank you!\n",
      "Program Exited..........\n"
     ]
    }
   ],
   "source": [
    "students = []\n",
    "\n",
    "print(\"------Welcome to the Student Data Organizer!------\")\n",
    "\n",
    "while True:\n",
    "    print(\"\"\"\n",
    "    Select an option:\n",
    "    1. Add Student\n",
    "    2. Display All Students\n",
    "    3. Update Student Information\n",
    "    4. Delete Student\n",
    "    5. Display Subjects Offered\n",
    "    6. Exit\n",
    "    \"\"\")\n",
    "    choice = input(\"Enter your choice: \")\n",
    "\n",
    "    if choice == '1':\n",
    "        print(\"\\nEnter student details:\")\n",
    "        student_id = input(\"Student ID: \")\n",
    "        name = input(\"Name: \")\n",
    "        age = input(\"Age: \")\n",
    "        grade = input(\"Grade: \")\n",
    "        date_of_birth = input(\"Date of Birth (YYYY-MM-DD): \")\n",
    "        subjects = input(\"Subjects (comma-separated): \")\n",
    "\n",
    "        student = {\n",
    "            \"id\": student_id,\n",
    "            \"name\": name,\n",
    "            \"age\": age,\n",
    "            \"grade\": grade,\n",
    "            \"date_of_birth\": date_of_birth,\n",
    "            \"subjects\": subjects\n",
    "        }\n",
    "\n",
    "        students.append(student)\n",
    "        print(\"\\nStudent Added Successfully!\")\n",
    "\n",
    "    elif choice == '2':\n",
    "        print(\"\\nDisplay All Students\")\n",
    "        if not students:\n",
    "            print(\"No student records available.\")\n",
    "        else:\n",
    "            for s in students:\n",
    "                print(f\"Student ID: {s['id']} | Name: {s['name']} | Age: {s['age']} | Grade: {s['grade']} | Subjects: {s['subjects']}\")\n",
    "\n",
    "    elif choice == '3':\n",
    "        usi = input(\"Enter Student ID to update: \")\n",
    "        found = False\n",
    "        for s in students:\n",
    "            if s[\"id\"] == usi:\n",
    "                print(\"What do you want to update?\")\n",
    "                print(\"1. Age\")\n",
    "                print(\"2. Subjects\")\n",
    "                update_choice = input(\"Enter your choice: \")\n",
    "\n",
    "                if update_choice == '1':\n",
    "                    s[\"age\"] = input(\"Enter new age: \")\n",
    "                    print(\"Age Updated.\")\n",
    "                elif update_choice == '2':\n",
    "                    s[\"subjects\"] = input(\"Enter new subjects (comma-separated): \")\n",
    "                    print(\"Subjects Updated.\")\n",
    "                else:\n",
    "                    print(\"Invalid update option.\")\n",
    "                found = True\n",
    "                break\n",
    "        if not found:\n",
    "            print(\"Student ID not found.\")\n",
    "\n",
    "    elif choice == '4':\n",
    "        usi = input(\"Enter Student ID to delete: \")\n",
    "        found = False\n",
    "        for i, s in enumerate(students):\n",
    "            if s[\"id\"] == usi:\n",
    "                del students[i]\n",
    "                print(\"Student ID Deleted.\")\n",
    "                found = True\n",
    "                break\n",
    "        if not found:\n",
    "            print(\"Student ID not found.\")\n",
    "\n",
    "    elif choice == '5':\n",
    "        subjects_list = []\n",
    "        for student in students:\n",
    "            subject_items = student[\"subjects\"].split(\",\")\n",
    "            for subject in subject_items:\n",
    "                subject = subject.strip()\n",
    "                if subject and subject not in subjects_list:\n",
    "                    subjects_list.append(subject)\n",
    "        print(\"Subjects Offered:\", \", \".join(subjects_list))\n",
    "\n",
    "    elif choice == '6':\n",
    "        print(\"Thank you!\\nProgram Exited..........\")\n",
    "        break\n",
    "\n",
    "    else:\n",
    "        print(\"Invalid choice. Please try again.\") \n",
    "    "
   ]
  },
  {
   "cell_type": "code",
   "execution_count": null,
   "id": "abb7c01b-10d4-40c6-a124-711f5532f1e1",
   "metadata": {},
   "outputs": [],
   "source": []
  },
  {
   "cell_type": "code",
   "execution_count": null,
   "id": "50f8cbf2-fc16-41ab-95a9-b9e7804389de",
   "metadata": {},
   "outputs": [],
   "source": []
  }
 ],
 "metadata": {
  "kernelspec": {
   "display_name": "Python [conda env:base] *",
   "language": "python",
   "name": "conda-base-py"
  },
  "language_info": {
   "codemirror_mode": {
    "name": "ipython",
    "version": 3
   },
   "file_extension": ".py",
   "mimetype": "text/x-python",
   "name": "python",
   "nbconvert_exporter": "python",
   "pygments_lexer": "ipython3",
   "version": "3.13.5"
  }
 },
 "nbformat": 4,
 "nbformat_minor": 5
}
